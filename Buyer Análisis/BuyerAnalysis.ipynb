{
 "cells": [
  {
   "cell_type": "code",
   "execution_count": 2,
   "id": "ea663be0-48a5-4294-a2da-510a45d6bb2f",
   "metadata": {},
   "outputs": [],
   "source": [
    "import pandas as pd\n",
    "import numpy as np\n",
    "import matplotlib.pyplot as plt\n",
    "import seaborn as sns"
   ]
  },
  {
   "cell_type": "code",
   "execution_count": 93,
   "id": "8fcb4baa-578c-4b57-a01a-e6491f143f35",
   "metadata": {},
   "outputs": [
    {
     "data": {
      "text/html": [
       "<div>\n",
       "<style scoped>\n",
       "    .dataframe tbody tr th:only-of-type {\n",
       "        vertical-align: middle;\n",
       "    }\n",
       "\n",
       "    .dataframe tbody tr th {\n",
       "        vertical-align: top;\n",
       "    }\n",
       "\n",
       "    .dataframe thead th {\n",
       "        text-align: right;\n",
       "    }\n",
       "</style>\n",
       "<table border=\"1\" class=\"dataframe\">\n",
       "  <thead>\n",
       "    <tr style=\"text-align: right;\">\n",
       "      <th></th>\n",
       "      <th>C+ID</th>\n",
       "      <th>CONJUNTO</th>\n",
       "      <th>STATUS</th>\n",
       "      <th>ASESOR</th>\n",
       "      <th>FECHA</th>\n",
       "      <th>GÉNERO</th>\n",
       "      <th>EDAD</th>\n",
       "      <th>PAÍS</th>\n",
       "      <th>CIUDAD</th>\n",
       "      <th>PROFESIÓN</th>\n",
       "      <th>OCUPACIÓN</th>\n",
       "      <th>ESTADO CIVIL</th>\n",
       "      <th>INGRESOS MENSUALES</th>\n",
       "      <th>CANALES</th>\n",
       "    </tr>\n",
       "  </thead>\n",
       "  <tbody>\n",
       "    <tr>\n",
       "      <th>0</th>\n",
       "      <td>XA1</td>\n",
       "      <td>X</td>\n",
       "      <td>DISPONIBLE</td>\n",
       "      <td>NaN</td>\n",
       "      <td></td>\n",
       "      <td>NaN</td>\n",
       "      <td>NaN</td>\n",
       "      <td>NaN</td>\n",
       "      <td>NaN</td>\n",
       "      <td>NaN</td>\n",
       "      <td>NaN</td>\n",
       "      <td>NaN</td>\n",
       "      <td>NaN</td>\n",
       "      <td>NaN</td>\n",
       "    </tr>\n",
       "    <tr>\n",
       "      <th>1</th>\n",
       "      <td>XA2</td>\n",
       "      <td>X</td>\n",
       "      <td>VENDIDO</td>\n",
       "      <td>BM (CARLOS)</td>\n",
       "      <td>1/4/2024</td>\n",
       "      <td>NaN</td>\n",
       "      <td>NaN</td>\n",
       "      <td>NaN</td>\n",
       "      <td>NaN</td>\n",
       "      <td>NaN</td>\n",
       "      <td>NaN</td>\n",
       "      <td>NaN</td>\n",
       "      <td>NaN</td>\n",
       "      <td>NaN</td>\n",
       "    </tr>\n",
       "    <tr>\n",
       "      <th>2</th>\n",
       "      <td>XA3</td>\n",
       "      <td>X</td>\n",
       "      <td>DISPONIBLE</td>\n",
       "      <td>NaN</td>\n",
       "      <td></td>\n",
       "      <td>NaN</td>\n",
       "      <td>NaN</td>\n",
       "      <td>NaN</td>\n",
       "      <td>NaN</td>\n",
       "      <td>NaN</td>\n",
       "      <td>NaN</td>\n",
       "      <td>NaN</td>\n",
       "      <td>NaN</td>\n",
       "      <td>NaN</td>\n",
       "    </tr>\n",
       "    <tr>\n",
       "      <th>3</th>\n",
       "      <td>XA4</td>\n",
       "      <td>X</td>\n",
       "      <td>DISPONIBLE</td>\n",
       "      <td>NaN</td>\n",
       "      <td></td>\n",
       "      <td>NaN</td>\n",
       "      <td>NaN</td>\n",
       "      <td>NaN</td>\n",
       "      <td>NaN</td>\n",
       "      <td>NaN</td>\n",
       "      <td>NaN</td>\n",
       "      <td>NaN</td>\n",
       "      <td>NaN</td>\n",
       "      <td>NaN</td>\n",
       "    </tr>\n",
       "    <tr>\n",
       "      <th>4</th>\n",
       "      <td>XA5</td>\n",
       "      <td>X</td>\n",
       "      <td>VENDIDO</td>\n",
       "      <td>BM (CARLOS)</td>\n",
       "      <td>1/4/2024</td>\n",
       "      <td>NaN</td>\n",
       "      <td>NaN</td>\n",
       "      <td>NaN</td>\n",
       "      <td>NaN</td>\n",
       "      <td>NaN</td>\n",
       "      <td>NaN</td>\n",
       "      <td>NaN</td>\n",
       "      <td>NaN</td>\n",
       "      <td>NaN</td>\n",
       "    </tr>\n",
       "  </tbody>\n",
       "</table>\n",
       "</div>"
      ],
      "text/plain": [
       "  C+ID CONJUNTO      STATUS       ASESOR     FECHA GÉNERO  EDAD PAÍS CIUDAD  \\\n",
       "0  XA1        X  DISPONIBLE          NaN              NaN   NaN  NaN    NaN   \n",
       "1  XA2        X     VENDIDO  BM (CARLOS)  1/4/2024    NaN   NaN  NaN    NaN   \n",
       "2  XA3        X  DISPONIBLE          NaN              NaN   NaN  NaN    NaN   \n",
       "3  XA4        X  DISPONIBLE          NaN              NaN   NaN  NaN    NaN   \n",
       "4  XA5        X     VENDIDO  BM (CARLOS)  1/4/2024    NaN   NaN  NaN    NaN   \n",
       "\n",
       "  PROFESIÓN OCUPACIÓN ESTADO CIVIL INGRESOS MENSUALES CANALES  \n",
       "0       NaN       NaN          NaN                NaN     NaN  \n",
       "1       NaN       NaN          NaN                NaN     NaN  \n",
       "2       NaN       NaN          NaN                NaN     NaN  \n",
       "3       NaN       NaN          NaN                NaN     NaN  \n",
       "4       NaN       NaN          NaN                NaN     NaN  "
      ]
     },
     "execution_count": 93,
     "metadata": {},
     "output_type": "execute_result"
    }
   ],
   "source": [
    "df_buyer = pd.read_csv('BaseDatosBuyer.csv')\n",
    "df_buyer.head()"
   ]
  },
  {
   "cell_type": "code",
   "execution_count": 94,
   "id": "6e8903a9-e583-4e0a-bb89-6b16b599bb0b",
   "metadata": {},
   "outputs": [
    {
     "data": {
      "text/html": [
       "<div>\n",
       "<style scoped>\n",
       "    .dataframe tbody tr th:only-of-type {\n",
       "        vertical-align: middle;\n",
       "    }\n",
       "\n",
       "    .dataframe tbody tr th {\n",
       "        vertical-align: top;\n",
       "    }\n",
       "\n",
       "    .dataframe thead th {\n",
       "        text-align: right;\n",
       "    }\n",
       "</style>\n",
       "<table border=\"1\" class=\"dataframe\">\n",
       "  <thead>\n",
       "    <tr style=\"text-align: right;\">\n",
       "      <th></th>\n",
       "      <th>C+ID</th>\n",
       "      <th>CONJUNTO</th>\n",
       "      <th>STATUS</th>\n",
       "      <th>ASESOR</th>\n",
       "      <th>FECHA</th>\n",
       "      <th>GÉNERO</th>\n",
       "      <th>EDAD</th>\n",
       "      <th>PAÍS</th>\n",
       "      <th>CIUDAD</th>\n",
       "      <th>PROFESIÓN</th>\n",
       "      <th>OCUPACIÓN</th>\n",
       "      <th>ESTADO CIVIL</th>\n",
       "      <th>INGRESOS MENSUALES</th>\n",
       "      <th>CANALES</th>\n",
       "    </tr>\n",
       "  </thead>\n",
       "  <tbody>\n",
       "    <tr>\n",
       "      <th>1</th>\n",
       "      <td>XA2</td>\n",
       "      <td>X</td>\n",
       "      <td>VENDIDO</td>\n",
       "      <td>BM (CARLOS)</td>\n",
       "      <td>1/4/2024</td>\n",
       "      <td>NaN</td>\n",
       "      <td>NaN</td>\n",
       "      <td>NaN</td>\n",
       "      <td>NaN</td>\n",
       "      <td>NaN</td>\n",
       "      <td>NaN</td>\n",
       "      <td>NaN</td>\n",
       "      <td>NaN</td>\n",
       "      <td>NaN</td>\n",
       "    </tr>\n",
       "    <tr>\n",
       "      <th>4</th>\n",
       "      <td>XA5</td>\n",
       "      <td>X</td>\n",
       "      <td>VENDIDO</td>\n",
       "      <td>BM (CARLOS)</td>\n",
       "      <td>1/4/2024</td>\n",
       "      <td>NaN</td>\n",
       "      <td>NaN</td>\n",
       "      <td>NaN</td>\n",
       "      <td>NaN</td>\n",
       "      <td>NaN</td>\n",
       "      <td>NaN</td>\n",
       "      <td>NaN</td>\n",
       "      <td>NaN</td>\n",
       "      <td>NaN</td>\n",
       "    </tr>\n",
       "    <tr>\n",
       "      <th>5</th>\n",
       "      <td>XA6</td>\n",
       "      <td>X</td>\n",
       "      <td>VENDIDO</td>\n",
       "      <td>INNVERTO</td>\n",
       "      <td>6/4/2025</td>\n",
       "      <td>HOMBRE</td>\n",
       "      <td>31.0</td>\n",
       "      <td>COLOMBIA</td>\n",
       "      <td>CALI</td>\n",
       "      <td>FUTBOLISTA</td>\n",
       "      <td>INDEPENDIENTE</td>\n",
       "      <td>CASAD@</td>\n",
       "      <td>$5.000.000</td>\n",
       "      <td>SOY REFERIDO</td>\n",
       "    </tr>\n",
       "    <tr>\n",
       "      <th>7</th>\n",
       "      <td>XA8</td>\n",
       "      <td>X</td>\n",
       "      <td>VENDIDO</td>\n",
       "      <td>GABRIELA RODRIGUEZ</td>\n",
       "      <td>17/11/2024</td>\n",
       "      <td>MUJER</td>\n",
       "      <td>47.0</td>\n",
       "      <td>COLOMBIA</td>\n",
       "      <td>CALI</td>\n",
       "      <td>ADMINISTRADORA</td>\n",
       "      <td>EMPLEAD@</td>\n",
       "      <td>SOLTER@</td>\n",
       "      <td>$4.000.000</td>\n",
       "      <td>SOY REFERIDO</td>\n",
       "    </tr>\n",
       "    <tr>\n",
       "      <th>11</th>\n",
       "      <td>XA12</td>\n",
       "      <td>X</td>\n",
       "      <td>VENDIDO</td>\n",
       "      <td>ANDREA OROZCO</td>\n",
       "      <td>31/7/2024</td>\n",
       "      <td>HOMBRE</td>\n",
       "      <td>53.0</td>\n",
       "      <td>COLOMBIA</td>\n",
       "      <td>CALI</td>\n",
       "      <td>EJECUTIVO BANCARIO</td>\n",
       "      <td>EMPLEAD@</td>\n",
       "      <td>CASAD@</td>\n",
       "      <td>$3.500.000</td>\n",
       "      <td>LOS VI EN REDES</td>\n",
       "    </tr>\n",
       "  </tbody>\n",
       "</table>\n",
       "</div>"
      ],
      "text/plain": [
       "    C+ID CONJUNTO   STATUS              ASESOR       FECHA  GÉNERO  EDAD  \\\n",
       "1    XA2        X  VENDIDO         BM (CARLOS)    1/4/2024     NaN   NaN   \n",
       "4    XA5        X  VENDIDO         BM (CARLOS)    1/4/2024     NaN   NaN   \n",
       "5    XA6        X  VENDIDO            INNVERTO    6/4/2025  HOMBRE  31.0   \n",
       "7    XA8        X  VENDIDO  GABRIELA RODRIGUEZ  17/11/2024   MUJER  47.0   \n",
       "11  XA12        X  VENDIDO       ANDREA OROZCO   31/7/2024  HOMBRE  53.0   \n",
       "\n",
       "        PAÍS CIUDAD           PROFESIÓN      OCUPACIÓN ESTADO CIVIL  \\\n",
       "1        NaN    NaN                 NaN            NaN          NaN   \n",
       "4        NaN    NaN                 NaN            NaN          NaN   \n",
       "5   COLOMBIA   CALI          FUTBOLISTA  INDEPENDIENTE       CASAD@   \n",
       "7   COLOMBIA   CALI      ADMINISTRADORA       EMPLEAD@      SOLTER@   \n",
       "11  COLOMBIA   CALI  EJECUTIVO BANCARIO       EMPLEAD@       CASAD@   \n",
       "\n",
       "   INGRESOS MENSUALES          CANALES  \n",
       "1                 NaN              NaN  \n",
       "4                 NaN              NaN  \n",
       "5          $5.000.000     SOY REFERIDO  \n",
       "7          $4.000.000     SOY REFERIDO  \n",
       "11         $3.500.000  LOS VI EN REDES  "
      ]
     },
     "execution_count": 94,
     "metadata": {},
     "output_type": "execute_result"
    }
   ],
   "source": [
    "df_buyer1 = df_buyer[df_buyer['STATUS']=='VENDIDO']\n",
    "df_buyer1.head()"
   ]
  },
  {
   "cell_type": "code",
   "execution_count": 95,
   "id": "8882a90e-80a1-4be3-82e9-46737e463cf4",
   "metadata": {},
   "outputs": [
    {
     "data": {
      "text/plain": [
       "array(['BM (CARLOS)', 'INNVERTO', 'GABRIELA RODRIGUEZ', 'ANDREA OROZCO',\n",
       "       'DACION', 'LAURA DANIELA GALLO', 'ISABEL ARBOLEDA ', 'TRASLADO',\n",
       "       'ISABEL ARBOLEDA', 'BM (CAMILO)', 'TRANSLADO VP', 'TRASLADO VP',\n",
       "       'VALERIA YEPES', 'BM (HITALO)', 'JANIER VERA', 'JULIANA GIRONZA',\n",
       "       'BM (DABEIDA)', 'BM (ENDO)'], dtype=object)"
      ]
     },
     "execution_count": 95,
     "metadata": {},
     "output_type": "execute_result"
    }
   ],
   "source": [
    "df_buyer1['ASESOR'].unique()"
   ]
  },
  {
   "cell_type": "code",
   "execution_count": 96,
   "id": "efe686ca-dbc1-4ac1-a535-f0a74309bac3",
   "metadata": {},
   "outputs": [],
   "source": [
    "df_buyer1.loc[\n",
    "    (df_buyer1['ASESOR'] == 'TRANSLADO VP') | (df_buyer1['ASESOR'] == 'TRASLAD0 VP'),\n",
    "    'ASESOR'\n",
    "] = 'TRASLADO'"
   ]
  },
  {
   "cell_type": "code",
   "execution_count": 97,
   "id": "04d72060-845b-4661-b96d-2ad58ee751a0",
   "metadata": {},
   "outputs": [
    {
     "data": {
      "text/plain": [
       "array(['BM (CARLOS)', 'INNVERTO', 'GABRIELA RODRIGUEZ', 'ANDREA OROZCO',\n",
       "       'DACION', 'LAURA DANIELA GALLO', 'ISABEL ARBOLEDA ', 'TRASLADO',\n",
       "       'ISABEL ARBOLEDA', 'BM (CAMILO)', 'TRASLADO VP', 'VALERIA YEPES',\n",
       "       'BM (HITALO)', 'JANIER VERA', 'JULIANA GIRONZA', 'BM (DABEIDA)',\n",
       "       'BM (ENDO)'], dtype=object)"
      ]
     },
     "execution_count": 97,
     "metadata": {},
     "output_type": "execute_result"
    }
   ],
   "source": [
    "df_buyer1['ASESOR'].unique()"
   ]
  },
  {
   "cell_type": "code",
   "execution_count": 98,
   "id": "514db315-6d5d-46f1-90f1-370fcafcf5a4",
   "metadata": {},
   "outputs": [],
   "source": [
    "asesor_drop = ['BM (CARLOS)','DACION','BM (CAMILO)','BM (HITALO)','BM (DABEIDA)','BM (ENDO)']\n",
    "df_buyer1 = df_buyer1[~df_buyer1['ASESOR'].isin(asesor_drop)]"
   ]
  },
  {
   "cell_type": "code",
   "execution_count": 99,
   "id": "ea9b6e88-d04f-416c-8628-9b5032191294",
   "metadata": {},
   "outputs": [
    {
     "data": {
      "text/plain": [
       "array(['INNVERTO', 'GABRIELA RODRIGUEZ', 'ANDREA OROZCO',\n",
       "       'LAURA DANIELA GALLO', 'ISABEL ARBOLEDA ', 'TRASLADO',\n",
       "       'ISABEL ARBOLEDA', 'TRASLADO VP', 'VALERIA YEPES', 'JANIER VERA',\n",
       "       'JULIANA GIRONZA'], dtype=object)"
      ]
     },
     "execution_count": 99,
     "metadata": {},
     "output_type": "execute_result"
    }
   ],
   "source": [
    "df_buyer1['ASESOR'].unique()"
   ]
  },
  {
   "cell_type": "code",
   "execution_count": 100,
   "id": "57086320-8194-4e43-a40f-d74520729085",
   "metadata": {},
   "outputs": [
    {
     "name": "stdout",
     "output_type": "stream",
     "text": [
      "<class 'pandas.core.frame.DataFrame'>\n",
      "Index: 215 entries, 5 to 634\n",
      "Data columns (total 14 columns):\n",
      " #   Column              Non-Null Count  Dtype  \n",
      "---  ------              --------------  -----  \n",
      " 0   C+ID                215 non-null    object \n",
      " 1   CONJUNTO            215 non-null    object \n",
      " 2   STATUS              215 non-null    object \n",
      " 3   ASESOR              215 non-null    object \n",
      " 4   FECHA               215 non-null    object \n",
      " 5   GÉNERO              214 non-null    object \n",
      " 6   EDAD                211 non-null    float64\n",
      " 7   PAÍS                215 non-null    object \n",
      " 8   CIUDAD              206 non-null    object \n",
      " 9   PROFESIÓN           168 non-null    object \n",
      " 10  OCUPACIÓN           212 non-null    object \n",
      " 11  ESTADO CIVIL        212 non-null    object \n",
      " 12  INGRESOS MENSUALES  212 non-null    object \n",
      " 13  CANALES             210 non-null    object \n",
      "dtypes: float64(1), object(13)\n",
      "memory usage: 25.2+ KB\n"
     ]
    }
   ],
   "source": [
    "df_buyer1.info()"
   ]
  },
  {
   "cell_type": "code",
   "execution_count": 101,
   "id": "b9ebbb20-e591-4478-82a0-23ee75227290",
   "metadata": {},
   "outputs": [
    {
     "data": {
      "text/plain": [
       "C+ID                   0\n",
       "CONJUNTO               0\n",
       "STATUS                 0\n",
       "ASESOR                 0\n",
       "FECHA                  0\n",
       "GÉNERO                 1\n",
       "EDAD                   4\n",
       "PAÍS                   0\n",
       "CIUDAD                 9\n",
       "PROFESIÓN             47\n",
       "OCUPACIÓN              3\n",
       "ESTADO CIVIL           3\n",
       "INGRESOS MENSUALES     3\n",
       "CANALES                5\n",
       "dtype: int64"
      ]
     },
     "execution_count": 101,
     "metadata": {},
     "output_type": "execute_result"
    }
   ],
   "source": [
    "df_buyer1.isnull().sum()"
   ]
  },
  {
   "cell_type": "code",
   "execution_count": 102,
   "id": "f32e205a-9c29-4b08-b383-1de0cc07717f",
   "metadata": {},
   "outputs": [],
   "source": [
    "df_buyer1['INGRESOS MENSUALES'] = df_buyer1['INGRESOS MENSUALES'].astype(str)\n",
    "\n",
    "df_buyer1['INGRESOS MENSUALES'] = df_buyer1['INGRESOS MENSUALES'].str.replace(r'[\\$,\\.]', '', regex=True)\n",
    "\n",
    "df_buyer1['INGRESOS MENSUALES'] = df_buyer1['INGRESOS MENSUALES'].str.strip()\n",
    "\n",
    "df_buyer1['INGRESOS MENSUALES'] = pd.to_numeric(df_buyer1['INGRESOS MENSUALES'], errors='coerce')\n",
    "\n",
    "df_buyer1['INGRESOS MENSUALES'] = df_buyer1['INGRESOS MENSUALES'].fillna(0).astype(int)"
   ]
  },
  {
   "cell_type": "code",
   "execution_count": 108,
   "id": "95ec0854-daaf-439a-8e23-e4c83f50e21e",
   "metadata": {},
   "outputs": [
    {
     "name": "stdout",
     "output_type": "stream",
     "text": [
      "<class 'pandas.core.frame.DataFrame'>\n",
      "Index: 215 entries, 5 to 634\n",
      "Data columns (total 14 columns):\n",
      " #   Column              Non-Null Count  Dtype  \n",
      "---  ------              --------------  -----  \n",
      " 0   C+ID                215 non-null    object \n",
      " 1   CONJUNTO            215 non-null    object \n",
      " 2   STATUS              215 non-null    object \n",
      " 3   ASESOR              215 non-null    object \n",
      " 4   FECHA               215 non-null    object \n",
      " 5   GÉNERO              214 non-null    object \n",
      " 6   EDAD                211 non-null    float64\n",
      " 7   PAÍS                215 non-null    object \n",
      " 8   CIUDAD              206 non-null    object \n",
      " 9   PROFESIÓN           168 non-null    object \n",
      " 10  OCUPACIÓN           212 non-null    object \n",
      " 11  ESTADO CIVIL        212 non-null    object \n",
      " 12  INGRESOS MENSUALES  215 non-null    int64  \n",
      " 13  CANALES             210 non-null    object \n",
      "dtypes: float64(1), int64(1), object(12)\n",
      "memory usage: 25.2+ KB\n"
     ]
    }
   ],
   "source": [
    "df_buyer1.info()"
   ]
  },
  {
   "cell_type": "code",
   "execution_count": null,
   "id": "4712e217-4a6c-44f0-ad3c-3f183c9f0b6e",
   "metadata": {},
   "outputs": [],
   "source": []
  }
 ],
 "metadata": {
  "kernelspec": {
   "display_name": "Python 3 (ipykernel)",
   "language": "python",
   "name": "python3"
  },
  "language_info": {
   "codemirror_mode": {
    "name": "ipython",
    "version": 3
   },
   "file_extension": ".py",
   "mimetype": "text/x-python",
   "name": "python",
   "nbconvert_exporter": "python",
   "pygments_lexer": "ipython3",
   "version": "3.12.5"
  }
 },
 "nbformat": 4,
 "nbformat_minor": 5
}
